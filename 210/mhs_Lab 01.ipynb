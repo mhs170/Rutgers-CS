{
 "cells": [
  {
   "cell_type": "markdown",
   "metadata": {},
   "source": [
    "Before you turn this problem in, make sure everything runs as expected. First, **restart the kernel** (in the menubar, select Kernel $\\rightarrow$ Restart) and then **run all cells** (in the menubar, select Cell $\\rightarrow$ Run All).\n",
    "\n",
    "Make sure you fill in any place that says `YOUR CODE HERE` or \"YOUR ANSWER HERE\", as well as your name and collaborators below:"
   ]
  },
  {
   "cell_type": "code",
   "execution_count": 1,
   "metadata": {},
   "outputs": [],
   "source": [
    "NAME = \"Mohammed Salama\"\n",
    "COLLABORATORS = \"\""
   ]
  },
  {
   "cell_type": "markdown",
   "metadata": {},
   "source": [
    "---"
   ]
  },
  {
   "cell_type": "markdown",
   "metadata": {
    "id": "EeExvGg38nsy"
   },
   "source": [
    "### <font color=\"brown\">Data Management for Data Science</font>\n",
    "### <font color=\"brown\">Lab 1: Python basics </font>\n",
    "### <font color=\"brown\">Due Date : September 22, 2024 11.59PM </font>\n",
    "You can still submit 48 hours late. But you will only have 4 total late days for all assignments"
   ]
  },
  {
   "cell_type": "markdown",
   "metadata": {},
   "source": [
    "<div class=\"alert alert-block alert-info\">\n",
    "<h3>Student Information</h3> Please provide information about yourself.<br>\n",
    "<b>Name</b>: Mohammed Salama <br> \n",
    "<b>NetID</b>: mhs170 <br>\n",
    "<b>Recitation #</b>: 08<br>\n",
    "<b>Notes to Grader</b> (optional):<br>\n",
    "<br><br>\n",
    "<b>IMPORTANT</b>\n",
    "Your work will not be graded withour your initials below<br>\n",
    "I certify that this lab represents my own work and I have read the RU academic intergrity policies at<br>\n",
    "<a href=\"https://www.cs.rutgers.edu/academic-integrity/introduction\">https://www.cs.rutgers.edu/academic-integrity/introduction </a><br>\n",
    "<b>Initials</b>:  MS    (eg: AG for Andy Guna)"
   ]
  },
  {
   "cell_type": "markdown",
   "metadata": {
    "id": "JsDs7_mT8nsy"
   },
   "source": [
    "Rules for variables and function names in python:\n",
    "1. All names must start with a letter or underscore. For e.g: user_name is a valid identifier but 1digit is not. <br> \n",
    "2. Identifiers can contain letters, digits and underscores. <br> \n",
    "3. They can be of any length. <br> \n",
    "4. Identifiers can't be a keyword. Keywords are reserved words that Python uses for special purposes. For e.g: False, None, break etc <br> "
   ]
  },
  {
   "cell_type": "markdown",
   "metadata": {},
   "source": [
    "---"
   ]
  },
  {
   "cell_type": "markdown",
   "metadata": {
    "id": "z0alGOgt8nsy"
   },
   "source": [
    "#### Problem 1: Basic Operations\n",
    "\n",
    "Given the value of x, compute and print the values of following:\n",
    "1. Cube of x\n",
    "2. The remainder when divided by 4\n",
    "3. The integer quotient when divided by 5\n",
    "4. Expression to determine whether x is greater than 15 and less than 25. Print the resultant value.\n",
    "5. Check if x is equal to the value of x as string. Eg: if 3 and \"3\" are same.  \n",
    "\n",
    "All the above values should be printed in the following form: <br>\n",
    "\"Problem: Value\"\n",
    "For e.g.: \"Cube of 10: 1000\""
   ]
  },
  {
   "cell_type": "code",
   "execution_count": 2,
   "metadata": {
    "id": "AwxVpl3z8nsy"
   },
   "outputs": [],
   "source": [
    "x = 18"
   ]
  },
  {
   "cell_type": "code",
   "execution_count": 3,
   "metadata": {
    "id": "HbxPXTBL8nsy"
   },
   "outputs": [
    {
     "name": "stdout",
     "output_type": "stream",
     "text": [
      "Cube of x: 5832\n"
     ]
    }
   ],
   "source": [
    "# 1.\n",
    "\n",
    "print(f'Cube of x: {x*x*x}')\n"
   ]
  },
  {
   "cell_type": "code",
   "execution_count": 4,
   "metadata": {
    "id": "tU9cnicJ8nsy"
   },
   "outputs": [
    {
     "name": "stdout",
     "output_type": "stream",
     "text": [
      "The remainder of x when divided by 4: 2\n"
     ]
    }
   ],
   "source": [
    "# 2. \n",
    "\n",
    "print(f'The remainder of x when divided by 4: {x % 4}')"
   ]
  },
  {
   "cell_type": "code",
   "execution_count": 5,
   "metadata": {
    "id": "XPMB7Nsu8nsy"
   },
   "outputs": [
    {
     "name": "stdout",
     "output_type": "stream",
     "text": [
      "The integer quotient of x when divided by 5: 3\n"
     ]
    }
   ],
   "source": [
    "# 3. \n",
    "\n",
    "print(f'The integer quotient of x when divided by 5: {x//5}')\n"
   ]
  },
  {
   "cell_type": "code",
   "execution_count": 6,
   "metadata": {
    "id": "yxo3SMkT8nsy"
   },
   "outputs": [
    {
     "name": "stdout",
     "output_type": "stream",
     "text": [
      "x is greater than 15 and less than 25: True\n"
     ]
    }
   ],
   "source": [
    "# 4. \n",
    "\n",
    "print(f'x is greater than 15 and less than 25: {x > 15 and x < 25}')"
   ]
  },
  {
   "cell_type": "code",
   "execution_count": 7,
   "metadata": {
    "id": "vaA2gkTF8nsz"
   },
   "outputs": [
    {
     "name": "stdout",
     "output_type": "stream",
     "text": [
      "x is equal to the value of x as a string: False\n"
     ]
    }
   ],
   "source": [
    "# 5.\n",
    "\n",
    "print(f'x is equal to the value of x as a string: {x == str(x)}')"
   ]
  },
  {
   "cell_type": "markdown",
   "metadata": {},
   "source": [
    "---"
   ]
  },
  {
   "cell_type": "markdown",
   "metadata": {
    "id": "BvWrfby68nsz"
   },
   "source": [
    "#### Problem 2: String Concatenation and Repitition\n",
    "\n",
    "String concatenation and string repetition:\n",
    "\n",
    "Form a single string using the below given variables: \n",
    "\n",
    "\"My name is Jim Halpert. My annual salary is $60000 <br>\n",
    "I am good. I am good. I am good.\" \n",
    "\n",
    "Print the resultant string."
   ]
  },
  {
   "cell_type": "code",
   "execution_count": 8,
   "metadata": {
    "id": "OzqWzNcO8nsz"
   },
   "outputs": [],
   "source": [
    "name = \"Jim Halpert\" \n",
    "salary = 60000\n",
    "string = \"I am good. \"\n",
    "age = 35"
   ]
  },
  {
   "cell_type": "code",
   "execution_count": 9,
   "metadata": {
    "id": "W4Lz4Vs78nsz"
   },
   "outputs": [
    {
     "name": "stdout",
     "output_type": "stream",
     "text": [
      "My name is Jim Halpert. My annual salary is $60000\n",
      "I am good. I am good. I am good. \n"
     ]
    }
   ],
   "source": [
    "# Solution\n",
    "\n",
    "print(f'My name is {name}. My annual salary is ${salary}\\n{string*3}')\n"
   ]
  },
  {
   "cell_type": "markdown",
   "metadata": {},
   "source": [
    "---"
   ]
  },
  {
   "cell_type": "markdown",
   "metadata": {
    "id": "LouUoFKi8nsz"
   },
   "source": [
    "#### Problem 3: String Methods\n",
    "\n",
    "String Methods:\n",
    "\n",
    "Note: All string methods returns new values. They do not change the original string.\n",
    "\n",
    "Reference: https://www.w3schools.com/python/python_ref_string.asp"
   ]
  },
  {
   "cell_type": "code",
   "execution_count": 10,
   "metadata": {
    "id": "QDRm6W2d8nsz"
   },
   "outputs": [],
   "source": [
    "string = \"Hello! How are you? It has been quite some time. Last time I saw you was in California.\""
   ]
  },
  {
   "cell_type": "markdown",
   "metadata": {
    "id": "2eVgjV0U8nsz"
   },
   "source": [
    "Given the following input string, perform the following:\n",
    "1. Print the length of string\n",
    "2. Occurrence of substring \"time\"\n",
    "3. Check if substring \"California\" and \"New York\" occur in string\n",
    "4. Convert string to uppercase\n",
    "5. Find the index of '!' in the string\n",
    "6. Check is there are any digits in the string"
   ]
  },
  {
   "cell_type": "code",
   "execution_count": 11,
   "metadata": {
    "id": "mJ9X4BV28nsz"
   },
   "outputs": [
    {
     "name": "stdout",
     "output_type": "stream",
     "text": [
      "1. Length of string: 87\n",
      "2. \"time\" occurs in string: True\n",
      "3. \"California\" and \"New York\" occur in string: False\n",
      "4. String in upper case: HELLO! HOW ARE YOU? IT HAS BEEN QUITE SOME TIME. LAST TIME I SAW YOU WAS IN CALIFORNIA.\n",
      "5. Index of \"!\": 5\n",
      "6. Any digits in string?: False\n"
     ]
    }
   ],
   "source": [
    "# Solution\n",
    "\n",
    "# not sure if I have to print 2-6\n",
    "\n",
    "print(f'1. Length of string: {len(string)}')\n",
    "print(f'2. \"time\" occurs in string: {\"time\" in string}')\n",
    "print(f'3. \"California\" and \"New York\" occur in string: {\"California\" and \"New York\" in string}')\n",
    "print(f'4. String in upper case: {string.upper()}')\n",
    "print(f'5. Index of \"!\": {string.index(\"!\")}')\n",
    "\n",
    "digit_found = False\n",
    "\n",
    "for c in string:\n",
    "    if c.isdigit():\n",
    "        digit_found = True\n",
    "        break\n",
    "\n",
    "print(f'6. Any digits in string?: {digit_found}')"
   ]
  },
  {
   "cell_type": "markdown",
   "metadata": {},
   "source": [
    "---"
   ]
  },
  {
   "cell_type": "markdown",
   "metadata": {
    "id": "r_Wu8xYH8nsz"
   },
   "source": [
    "#### Problem 4: Newton's SQRT Functions\n",
    "Newton's sqrt method is an iterative method that uses the formula\n",
    "\n",
    "est = 0.5 * (est + (n / est))\n",
    "\n",
    "to estimate the sqrt of a number n. You can start the estimate from any value (say 1) and then continue to iterate until you are happy with the answer. For example if we need sqrt(2), and initial est is 1, then we find next est by\n",
    "\n",
    "est = 0.5*(1 + 2/1) = 1.5\n",
    "\n",
    "Then the next est is \n",
    "\n",
    "est = 0.5*(1.5 + 2/1.5) = 1.4 etc\n",
    "You can continue this for few iterations, (say 10) and get a value closer to what any calculator would do."
   ]
  },
  {
   "cell_type": "code",
   "execution_count": 12,
   "metadata": {
    "id": "qvW5Pbkb8nsz"
   },
   "outputs": [
    {
     "name": "stdout",
     "output_type": "stream",
     "text": [
      "0\n",
      "1.414213562373095\n",
      "3.162277660168379\n"
     ]
    }
   ],
   "source": [
    "def sqrt(n):\n",
    "    # Complete sqrt function here. USe 10 iterations and return the value obtained. You must also handle error conditions\n",
    "\n",
    "    if n == 0:\n",
    "        return 0\n",
    "\n",
    "    if n < 0: \n",
    "        print('n must be greater than or equal to 0.')\n",
    "        return\n",
    "    est = 1\n",
    "    for i in range(10):\n",
    "        est = 0.5 * (est + (n/est))\n",
    "        \n",
    "    return est\n",
    "\n",
    "### test your code\n",
    "print(sqrt(0))\n",
    "print(sqrt(2))\n",
    "print(sqrt(10))"
   ]
  },
  {
   "cell_type": "markdown",
   "metadata": {},
   "source": [
    "---"
   ]
  },
  {
   "cell_type": "markdown",
   "metadata": {
    "id": "srit6lO38nsz"
   },
   "source": [
    "#### Problem 5: Area of a Circle\n",
    "\n",
    "Write a function to compute the area of the circle given radius r. Use a default value of 5 for the radius. Use the value of Pi from the math module."
   ]
  },
  {
   "cell_type": "code",
   "execution_count": 13,
   "metadata": {
    "id": "sOhhkTEv8nsz"
   },
   "outputs": [
    {
     "name": "stdout",
     "output_type": "stream",
     "text": [
      "78.53981633974483\n"
     ]
    }
   ],
   "source": [
    "# Solution \n",
    "\n",
    "import math \n",
    "\n",
    "def area_of_circle(r = 5):\n",
    "\n",
    "    area = math.pi * (r ** 2)\n",
    "    return area\n",
    "\n",
    "\n",
    "print(area_of_circle())\n",
    "\n",
    "\n",
    "    \n"
   ]
  },
  {
   "cell_type": "markdown",
   "metadata": {},
   "source": [
    "---"
   ]
  },
  {
   "cell_type": "markdown",
   "metadata": {
    "id": "Qwerb4-38nsz"
   },
   "source": [
    "#### Problem 6: File Processing\n",
    "\n",
    "Read the file countries.txt and print the countries and their CODE in the following format.\n",
    "\n",
    "Argentina AR \n",
    "\n",
    "Australia AU \n",
    "..."
   ]
  },
  {
   "cell_type": "code",
   "execution_count": 14,
   "metadata": {
    "id": "oSVezndG8nsz"
   },
   "outputs": [
    {
     "name": "stdout",
     "output_type": "stream",
     "text": [
      "Argentina AR\n",
      "Australia AU\n",
      "Belgium BE\n",
      "Brazil BR\n",
      "Canada CA\n",
      "Switzerland CH\n",
      "China CN\n",
      "Germany DE\n",
      "Denmark DK\n",
      "Egypt EG\n",
      "France FR\n",
      "HongKong HK\n",
      "Israel IL\n",
      "India IN\n",
      "Italy IT\n",
      "Japan JP\n",
      "Kuwait KW\n",
      "Mexico MX\n",
      "Nigeria NG\n",
      "Netherlands N\n",
      "Singapore SG\n",
      "UnitedKingdom UK\n",
      "UnitedStatesofAmerica US\n",
      "Zambia ZM\n",
      "Zimbabwe ZW\n"
     ]
    }
   ],
   "source": [
    "# Solution \n",
    "\n",
    "# cs210/Lab_01_Python_Basics/countries.txt\n",
    "\n",
    "with open('/home/mhs170/cs210/Lab_01_Python_Basics/countries.txt', 'r') as file:\n",
    "    for line in file:\n",
    "        words = line.split()\n",
    "        country_code = words[0]\n",
    "        country_name = words[1]\n",
    "        print(country_name + \" \" + country_code)"
   ]
  },
  {
   "cell_type": "markdown",
   "metadata": {},
   "source": [
    "---"
   ]
  },
  {
   "cell_type": "markdown",
   "metadata": {},
   "source": [
    "---"
   ]
  },
  {
   "cell_type": "markdown",
   "metadata": {
    "id": "nD8CZ5iW8nsz",
    "tags": []
   },
   "source": [
    "#### Problem 8: Checking the Range\n",
    "\n",
    "Write a function checkRange to check if a number is in a particular range (a,b), with a default range of 0..100. Return true if the number is in range. Otherwise false<br>"
   ]
  },
  {
   "cell_type": "code",
   "execution_count": 15,
   "metadata": {
    "id": "NJwMLsSS8nsz"
   },
   "outputs": [
    {
     "data": {
      "text/plain": [
       "True"
      ]
     },
     "execution_count": 15,
     "metadata": {},
     "output_type": "execute_result"
    }
   ],
   "source": [
    "# Solution \n",
    "def checkRange(n, a=0, b=100):\n",
    "    return a <= n <= b\n",
    "\n",
    "## testing\n",
    "\n",
    "checkRange(202, 200, 400)"
   ]
  },
  {
   "cell_type": "markdown",
   "metadata": {},
   "source": [
    "#### Problem 9: Guessing Game\n",
    "Write a function guessing_game that start with a random number in a range and ask the user to repeatedly guess until he/she gets it right. The function will provide responses if the actual number is higher or lower."
   ]
  },
  {
   "cell_type": "code",
   "execution_count": 16,
   "metadata": {},
   "outputs": [
    {
     "name": "stdin",
     "output_type": "stream",
     "text": [
      "Guess a number within the range 50\n"
     ]
    },
    {
     "name": "stdout",
     "output_type": "stream",
     "text": [
      "Actual number is lower\n"
     ]
    },
    {
     "name": "stdin",
     "output_type": "stream",
     "text": [
      "Guess a number within the range 40\n"
     ]
    },
    {
     "name": "stdout",
     "output_type": "stream",
     "text": [
      "Actual number is lower\n"
     ]
    },
    {
     "name": "stdin",
     "output_type": "stream",
     "text": [
      "Guess a number within the range 30\n"
     ]
    },
    {
     "name": "stdout",
     "output_type": "stream",
     "text": [
      "Actual number is higher\n"
     ]
    },
    {
     "name": "stdin",
     "output_type": "stream",
     "text": [
      "Guess a number within the range 35\n"
     ]
    },
    {
     "name": "stdout",
     "output_type": "stream",
     "text": [
      "Actual number is higher\n"
     ]
    },
    {
     "name": "stdin",
     "output_type": "stream",
     "text": [
      "Guess a number within the range 38\n"
     ]
    },
    {
     "name": "stdout",
     "output_type": "stream",
     "text": [
      "Actual number is higher\n"
     ]
    },
    {
     "name": "stdin",
     "output_type": "stream",
     "text": [
      "Guess a number within the range 39\n"
     ]
    },
    {
     "name": "stdout",
     "output_type": "stream",
     "text": [
      "Correct!\n"
     ]
    }
   ],
   "source": [
    "import random\n",
    "def guessing_game(low, high):\n",
    "   # complete code here\n",
    "   # get a random number in the range\n",
    "   # ask the user to guess\n",
    "   # give feedback on higher or lower\n",
    "    \n",
    "    random_number = random.randint(low, high)\n",
    "    continue_game = True\n",
    "\n",
    "    while continue_game:\n",
    "        user_guess = input(\"Guess a number within the range\")\n",
    "        try:\n",
    "            value = int(user_guess)\n",
    "        except ValueError:\n",
    "            print(\"Make sure the input is an integer\")\n",
    "            continue\n",
    "\n",
    "        if not low <= value <= high:\n",
    "            print(\"Guess within range\")\n",
    "            continue\n",
    "\n",
    "        if value > random_number:\n",
    "            print(\"Actual number is lower\")\n",
    "        elif value < random_number:\n",
    "            print(\"Actual number is higher\")\n",
    "        else:\n",
    "            print(\"Correct!\")\n",
    "            continue_game = False\n",
    "\n",
    "    \n",
    "    \n",
    "guessing_game(1, 100)    "
   ]
  },
  {
   "cell_type": "markdown",
   "metadata": {},
   "source": [
    "#### Problem 10: Fizz_Buzz\n",
    "Fizz_Buzz is a game that prints Fizz, Buzz or FizzBuzz based on numbers from 1 to n. if a number is no Fizz or Buzz, just print the number. "
   ]
  },
  {
   "cell_type": "code",
   "execution_count": 17,
   "metadata": {},
   "outputs": [
    {
     "name": "stdout",
     "output_type": "stream",
     "text": [
      "[1, 2, 'Fizz', 4, 'Buzz', 'Fizz', 7, 8, 'Fizz', 'Buzz', 11, 'Fizz', 13, 14, 'FizzBuzz', 16, 17, 'Fizz', 19, 'Buzz']\n"
     ]
    }
   ],
   "source": [
    "def fizz_buzz(n):\n",
    "    \"\"\"\n",
    "    Prints the numbers from 1 to n. \n",
    "    For multiples of 3, print 'Fizz' instead of the number.\n",
    "    For multiples of 5, print 'Buzz' instead of the number.\n",
    "    For multiples of both 3 and 5, print 'FizzBuzz'.\n",
    "    \n",
    "    Args:\n",
    "        n (int): The maximum number to print.\n",
    "    \"\"\"\n",
    "    # complete your code here\n",
    "\n",
    "    result = []\n",
    "\n",
    "    for i in range(1, n+1):\n",
    "        if i % 3 == 0 and i % 5 == 0:\n",
    "            result.append('FizzBuzz')\n",
    "        elif i % 3 == 0:\n",
    "            result.append('Fizz')\n",
    "        elif i % 5 == 0:\n",
    "            result.append('Buzz')\n",
    "        else:\n",
    "            result.append(i)\n",
    "    print(result)\n",
    "    \n",
    "fizz_buzz(20)"
   ]
  },
  {
   "cell_type": "markdown",
   "metadata": {},
   "source": [
    "### Submission Instructions\n",
    "Rename the lab as netID_Lab01.ipynb and submit to codebench. (eg: adg133_Lab01.ipynb)"
   ]
  },
  {
   "cell_type": "markdown",
   "metadata": {},
   "source": [
    "##### @2024 Lab Adopted from Sesh Venugopal and modified by Andy Gunawardena. Rutgers use only. Do not share outside of Rutgers."
   ]
  }
 ],
 "metadata": {
  "colab": {
   "name": "Week1_Exercises.ipynb",
   "provenance": []
  },
  "kernelspec": {
   "display_name": "Python 3 (ipykernel)",
   "language": "python",
   "name": "python3"
  },
  "language_info": {
   "codemirror_mode": {
    "name": "ipython",
    "version": 3
   },
   "file_extension": ".py",
   "mimetype": "text/x-python",
   "name": "python",
   "nbconvert_exporter": "python",
   "pygments_lexer": "ipython3",
   "version": "3.12.2"
  }
 },
 "nbformat": 4,
 "nbformat_minor": 4
}
